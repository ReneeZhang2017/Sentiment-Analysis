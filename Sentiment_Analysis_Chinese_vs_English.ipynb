{
  "nbformat": 4,
  "nbformat_minor": 0,
  "metadata": {
    "colab": {
      "name": "Sentiment Analysis Chinese vs. English.ipynb",
      "version": "0.3.2",
      "provenance": [],
      "toc_visible": true,
      "include_colab_link": true
    },
    "kernelspec": {
      "name": "python3",
      "display_name": "Python 3"
    }
  },
  "cells": [
    {
      "cell_type": "markdown",
      "metadata": {
        "id": "view-in-github",
        "colab_type": "text"
      },
      "source": [
        "<a href=\"https://colab.research.google.com/github/ReneeZhang2017/Sentiment-Analysis/blob/master/Sentiment_Analysis_Chinese_vs_English.ipynb\" target=\"_parent\"><img src=\"https://colab.research.google.com/assets/colab-badge.svg\" alt=\"Open In Colab\"/></a>"
      ]
    },
    {
      "metadata": {
        "id": "Ko5PtukBZEhl",
        "colab_type": "text"
      },
      "cell_type": "markdown",
      "source": [
        "# English Sentiment Analysis--textblob"
      ]
    },
    {
      "metadata": {
        "id": "gnmBDqtsSmLi",
        "colab_type": "code",
        "outputId": "71c69383-6db9-4820-cff5-4971fdab403c",
        "colab": {
          "base_uri": "https://localhost:8080/",
          "height": 34
        }
      },
      "cell_type": "code",
      "source": [
        "text = \"I am happy today. I feel sad today.\"\n",
        "from textblob import TextBlob\n",
        "blob = TextBlob(text)\n",
        "blob"
      ],
      "execution_count": 0,
      "outputs": [
        {
          "output_type": "execute_result",
          "data": {
            "text/plain": [
              "TextBlob(\"I am happy today. I feel sad today.\")"
            ]
          },
          "metadata": {
            "tags": []
          },
          "execution_count": 1
        }
      ]
    },
    {
      "metadata": {
        "id": "XsEccaVsWnHn",
        "colab_type": "code",
        "outputId": "c2c945f7-5f8e-4dd6-a52d-51db0c915d5c",
        "colab": {
          "base_uri": "https://localhost:8080/",
          "height": 68
        }
      },
      "cell_type": "code",
      "source": [
        "import nltk\n",
        "nltk.download('punkt')\n",
        "blob.sentences\n",
        "blob.sentences[0].sentiment"
      ],
      "execution_count": 0,
      "outputs": [
        {
          "output_type": "stream",
          "text": [
            "[nltk_data] Downloading package punkt to /root/nltk_data...\n",
            "[nltk_data]   Package punkt is already up-to-date!\n"
          ],
          "name": "stdout"
        },
        {
          "output_type": "execute_result",
          "data": {
            "text/plain": [
              "Sentiment(polarity=0.8, subjectivity=1.0)"
            ]
          },
          "metadata": {
            "tags": []
          },
          "execution_count": 8
        }
      ]
    },
    {
      "metadata": {
        "id": "s0vgv4lQXIWK",
        "colab_type": "code",
        "outputId": "769c1e45-25e9-4a8d-8a54-e2eb8c922cf9",
        "colab": {
          "base_uri": "https://localhost:8080/",
          "height": 34
        }
      },
      "cell_type": "code",
      "source": [
        "blob.sentences[1].sentiment"
      ],
      "execution_count": 0,
      "outputs": [
        {
          "output_type": "execute_result",
          "data": {
            "text/plain": [
              "Sentiment(polarity=-0.5, subjectivity=1.0)"
            ]
          },
          "metadata": {
            "tags": []
          },
          "execution_count": 7
        }
      ]
    },
    {
      "metadata": {
        "id": "c4IOXnZQXOzf",
        "colab_type": "code",
        "outputId": "d9878a23-6cbf-4165-d2c3-9307b63f3988",
        "colab": {
          "base_uri": "https://localhost:8080/",
          "height": 34
        }
      },
      "cell_type": "code",
      "source": [
        "blob.sentiment"
      ],
      "execution_count": 0,
      "outputs": [
        {
          "output_type": "execute_result",
          "data": {
            "text/plain": [
              "Sentiment(polarity=0.15000000000000002, subjectivity=1.0)"
            ]
          },
          "metadata": {
            "tags": []
          },
          "execution_count": 9
        }
      ]
    },
    {
      "metadata": {
        "id": "Zwio_Fr3ZP6q",
        "colab_type": "text"
      },
      "cell_type": "markdown",
      "source": [
        "# Chinese Sentiment Analysis---snownlp"
      ]
    },
    {
      "metadata": {
        "id": "HJ0kYtppX8A4",
        "colab_type": "code",
        "outputId": "16427dd3-3d9d-4b60-e869-cdb82e0d1f77",
        "colab": {
          "base_uri": "https://localhost:8080/",
          "height": 190
        }
      },
      "cell_type": "code",
      "source": [
        "!pip install snownlp"
      ],
      "execution_count": 0,
      "outputs": [
        {
          "output_type": "stream",
          "text": [
            "Collecting snownlp\n",
            "\u001b[?25l  Downloading https://files.pythonhosted.org/packages/3d/b3/37567686662100d3bce62d3b0f2adec18ab4b9ff2b61abd7a61c39343c1d/snownlp-0.12.3.tar.gz (37.6MB)\n",
            "\u001b[K    100% |████████████████████████████████| 37.6MB 698kB/s \n",
            "\u001b[?25hBuilding wheels for collected packages: snownlp\n",
            "  Building wheel for snownlp (setup.py) ... \u001b[?25ldone\n",
            "\u001b[?25h  Stored in directory: /root/.cache/pip/wheels/f3/81/25/7c197493bd7daf177016f1a951c5c3a53b1c7e9339fd11ec8f\n",
            "Successfully built snownlp\n",
            "Installing collected packages: snownlp\n",
            "Successfully installed snownlp-0.12.3\n"
          ],
          "name": "stdout"
        }
      ]
    },
    {
      "metadata": {
        "id": "aqlg1Ui7XVn2",
        "colab_type": "code",
        "colab": {}
      },
      "cell_type": "code",
      "source": [
        "text = u\"我今天很快乐。我今天很愤怒。\"\n",
        "#注意在引号前面我们加了一个字母u，它很重要。因为它提示Python，“这一段我们输入的文本编码格式是Unicode，别搞错了哦”。\n"
      ],
      "execution_count": 0,
      "outputs": []
    },
    {
      "metadata": {
        "id": "tZEo3OThXpxQ",
        "colab_type": "code",
        "outputId": "fc1058b8-7785-42a9-9f5c-f5b316016fdc",
        "colab": {
          "base_uri": "https://localhost:8080/",
          "height": 51
        }
      },
      "cell_type": "code",
      "source": [
        "from snownlp import SnowNLP\n",
        "s = SnowNLP(text)\n",
        "for sentence in s.sentences:\n",
        " print(sentence)"
      ],
      "execution_count": 0,
      "outputs": [
        {
          "output_type": "stream",
          "text": [
            "我今天很快乐\n",
            "我今天很愤怒\n"
          ],
          "name": "stdout"
        }
      ]
    },
    {
      "metadata": {
        "id": "UJUn4g7dYwJy",
        "colab_type": "code",
        "outputId": "114c3022-d022-4653-9f2f-20e37d3bd3e2",
        "colab": {
          "base_uri": "https://localhost:8080/",
          "height": 34
        }
      },
      "cell_type": "code",
      "source": [
        "s1 = SnowNLP(s.sentences[0])\n",
        "\n",
        "s1.sentiments"
      ],
      "execution_count": 0,
      "outputs": [
        {
          "output_type": "execute_result",
          "data": {
            "text/plain": [
              "0.971889316039116"
            ]
          },
          "metadata": {
            "tags": []
          },
          "execution_count": 19
        }
      ]
    },
    {
      "metadata": {
        "id": "VIjYZkisYzUk",
        "colab_type": "code",
        "outputId": "4f073e4c-5643-44a7-efea-9331246a1a8e",
        "colab": {
          "base_uri": "https://localhost:8080/",
          "height": 34
        }
      },
      "cell_type": "code",
      "source": [
        "s2 = SnowNLP(s.sentences[1])\n",
        "\n",
        "s2.sentiments"
      ],
      "execution_count": 0,
      "outputs": [
        {
          "output_type": "execute_result",
          "data": {
            "text/plain": [
              "0.07763913772213482"
            ]
          },
          "metadata": {
            "tags": []
          },
          "execution_count": 20
        }
      ]
    },
    {
      "metadata": {
        "id": "s6CEf_BObfiN",
        "colab_type": "text"
      },
      "cell_type": "markdown",
      "source": [
        "# Conclusion\n"
      ]
    },
    {
      "metadata": {
        "id": "Ta05HZurbe5V",
        "colab_type": "code",
        "colab": {}
      },
      "cell_type": "code",
      "source": [
        "#这里你肯定发现了问题——“愤怒”这个词表达了如此强烈的负面情感，为何得分依然是正的？\n",
        "#这是因为SnowNLP和textblob的计分方法不同。SnowNLP的情感分析取值，表达的是“这句话代表正面情感的概率”。\n",
        "#也就是说，对“我今天很愤怒”一句，SnowNLP认为，它表达正面情感的概率很低很低。"
      ],
      "execution_count": 0,
      "outputs": []
    },
    {
      "metadata": {
        "id": "iaCVSvRvl_KP",
        "colab_type": "text"
      },
      "cell_type": "markdown",
      "source": [
        "# 周杰伦《双截棍》情绪分析"
      ]
    },
    {
      "metadata": {
        "id": "8BOCKjg4NZXx",
        "colab_type": "code",
        "colab": {}
      },
      "cell_type": "code",
      "source": [
        "text = open('shuang.txt', encoding=\"utf8\").readlines()\n",
        "str1 = ''.join(text)\n"
      ],
      "execution_count": 0,
      "outputs": []
    },
    {
      "metadata": {
        "id": "mGf36nuhOodn",
        "colab_type": "code",
        "outputId": "1fcd188b-2a2f-4736-cbc5-e29889122abb",
        "colab": {
          "base_uri": "https://localhost:8080/",
          "height": 1037
        }
      },
      "cell_type": "code",
      "source": [
        "from snownlp import SnowNLP\n",
        "s = SnowNLP(str1)\n",
        "for sentence in s.sentences:\n",
        " print(sentence)"
      ],
      "execution_count": 0,
      "outputs": [
        {
          "output_type": "stream",
          "text": [
            "岩烧店的烟味弥漫 隔壁是国术馆\n",
            "店里面的妈妈桑 茶道 有三段\n",
            "教拳脚武术的老板 练铁沙掌 耍杨家枪\n",
            "硬底子功夫最擅长 还会金钟罩铁步衫\n",
            "他们儿子我习惯 从小就耳濡目染\n",
            "什么刀枪跟棍棒 我都耍的有模有样\n",
            "什么兵器最喜欢 双截棍柔中带刚\n",
            "想要去河南嵩山 学少林跟武当\n",
            "干什么（客） 干什么（客）\n",
            "呼吸吐纳心自在\n",
            "干什么（客） 干什么（客）\n",
            "气沉丹田手心开\n",
            "干什么（客） 干什么（客）\n",
            "日行千里系沙袋\n",
            "飞檐走壁莫奇怪 去去就来\n",
            "一个马步向前 一记 左钩拳右钩拳\n",
            "一句惹毛我的人有危险 一再重演\n",
            "一根我不抽的烟 一放好多年\n",
            "它一直在身边\n",
            "干什么（客） 干什么（客）\n",
            "我打开任督二脉\n",
            "干什么（客） 干什么（客）\n",
            "东亚病夫的招牌\n",
            "干什么（客） 干什么（客）\n",
            "已被我一脚踢开 哼\n",
            "快使用双截棍 哼哼哈兮\n",
            "快使用双截棍 哼哼哈兮\n",
            "习武之人切记 仁者无敌\n",
            "是谁在练太极 风生水起\n",
            "快使用双截棍 哼哼哈兮\n",
            "快使用双截棍 哼哼哈兮\n",
            "如果我有轻功 飞檐走壁\n",
            "为人耿直不屈 一身正气 哼\n",
            "他们儿子我习惯 从小就耳濡目染\n",
            "什么刀枪跟棍棒 我都耍的有模有样\n",
            "什么兵器最喜欢 双截棍柔中带刚\n",
            "想要去河南嵩山 学少林跟武当\n",
            "快使用双截棍 哼哼哈兮\n",
            "快使用双截棍 哼哼哈兮\n",
            "习武之人切记 仁者无敌\n",
            "是谁在练太极 风生水起\n",
            "快使用双截棍 哼哼哈兮\n",
            "快使用双截棍 哼哼哈兮\n",
            "如果我有轻功 飞檐走壁\n",
            "为人耿直不屈 一身正气 哼\n",
            "他们儿子我习惯 从小就耳濡目染\n",
            "什么刀枪跟棍棒 我都耍的有模有样\n",
            "什么兵器最喜欢 双截棍柔中带刚\n",
            "想要去河南嵩山 学少林跟武当\n",
            "快使用双截棍 哼哼哈兮\n",
            "快使用双截棍 哼哼哈兮\n",
            "习武之人切记 仁者无敌\n",
            "是谁在练太极 风生水起\n",
            "快使用双截棍 哼\n",
            "快使用双截棍 哼\n",
            "如果我有轻功 哼\n",
            "为人耿直不屈 一身正气 哼\n",
            "快使用双截棍 哼\n",
            "我用手刀防御 哼\n",
            "漂亮的回旋踢 [5]\n"
          ],
          "name": "stdout"
        }
      ]
    },
    {
      "metadata": {
        "id": "6YBiKXL1lHeG",
        "colab_type": "code",
        "outputId": "1fa4bc2c-2ff6-4284-c3d7-0397282832aa",
        "colab": {
          "base_uri": "https://localhost:8080/",
          "height": 34
        }
      },
      "cell_type": "code",
      "source": [
        "s.keywords(4)"
      ],
      "execution_count": 0,
      "outputs": [
        {
          "output_type": "execute_result",
          "data": {
            "text/plain": [
              "['人', '最', '开', '双']"
            ]
          },
          "metadata": {
            "tags": []
          },
          "execution_count": 55
        }
      ]
    },
    {
      "metadata": {
        "id": "pyWe7bTFlgM9",
        "colab_type": "code",
        "outputId": "99693e47-a9a6-4a08-c7b2-ca0dc277abcb",
        "colab": {
          "base_uri": "https://localhost:8080/",
          "height": 34
        }
      },
      "cell_type": "code",
      "source": [
        "s.summary(3)"
      ],
      "execution_count": 0,
      "outputs": [
        {
          "output_type": "execute_result",
          "data": {
            "text/plain": [
              "['如果我有轻功 飞檐走壁', '如果我有轻功 飞檐走壁', '快使用双截棍 哼哼哈兮']"
            ]
          },
          "metadata": {
            "tags": []
          },
          "execution_count": 56
        }
      ]
    },
    {
      "metadata": {
        "id": "ByPyPq7JR0qz",
        "colab_type": "code",
        "outputId": "7d4e964a-c5dc-48bc-86a9-a1fbd7035912",
        "colab": {
          "base_uri": "https://localhost:8080/",
          "height": 34
        }
      },
      "cell_type": "code",
      "source": [
        "s.sentiments"
      ],
      "execution_count": 0,
      "outputs": [
        {
          "output_type": "execute_result",
          "data": {
            "text/plain": [
              "0.9999999999999987"
            ]
          },
          "metadata": {
            "tags": []
          },
          "execution_count": 57
        }
      ]
    },
    {
      "metadata": {
        "id": "3H_kKN63mN8A",
        "colab_type": "text"
      },
      "cell_type": "markdown",
      "source": [
        "# 如何从网页提取歌词"
      ]
    },
    {
      "metadata": {
        "id": "_VdwEUceaeiD",
        "colab_type": "code",
        "outputId": "0bd081c5-ff98-403d-87a2-cf7c774abfc6",
        "colab": {
          "base_uri": "https://localhost:8080/",
          "height": 850
        }
      },
      "cell_type": "code",
      "source": [
        "import requests\n",
        "import json\n",
        "import re\n",
        "\n",
        "#根据歌词id提取歌词\n",
        "lrc_url = 'http://music.163.com/api/song/lyric?' + 'id=' + str(531051217) + '&lv=1&kv=1&tv=-1'\n",
        "lyric = requests.get(lrc_url)\n",
        "json_obj = lyric.text\n",
        "j = json.loads(json_obj)\n",
        "lrc = j['lrc']['lyric']\n",
        "pat = re.compile(r'\\[.*\\]')\n",
        "lrc = re.sub(pat, \"\", lrc)\n",
        "lrc = lrc.strip()\n",
        "print(lrc)\n"
      ],
      "execution_count": 0,
      "outputs": [
        {
          "output_type": "stream",
          "text": [
            "作曲 : 周杰伦\n",
            " 作词 : 周杰伦\n",
            "Jay：你住的  巷子里  我租了一间公寓\n",
            "为了想与你不期而遇\n",
            "高中三年  我为什么  为什么不好好读书\n",
            "没考上跟你一样的大学\n",
            "我找了份工作  离你宿舍很近\n",
            "当我开始学会做蛋饼  才发现你  不吃早餐\n",
            "喔  你又擦肩而过\n",
            "你耳机听什么  能不能告诉我\n",
            "\n",
            "合：躺在你学校的操场看星空\n",
            "教室里的灯还亮着你没走\n",
            "记得  我写给你的情书\n",
            "都什么年代了\n",
            "到现在我还在写着\n",
            "\n",
            "总有一天总有一年会发现\n",
            "有人默默的陪在你的身边\n",
            "也许  我不该在你的世界\n",
            "当你收到情书\n",
            "也代表我已经走远\n",
            "\n",
            "Gary：学校旁  的广场  我在这等钟声响\n",
            "等你下课一起走好吗\n",
            "Jay：弹着琴  唱你爱的歌  暗恋一点都不痛苦\n",
            "（Gary：一点都不痛苦）\n",
            "Jay：痛苦的是你\n",
            "合：根本没看我\n",
            "\n",
            "Jay：我唱这么走心  却走不进你心里\n",
            "（Gary：这么走心  进你心里）\n",
            "Jay：在人来人往\n",
            "合：找寻着你  守护着你  不求结局\n",
            "Gary：喔  你又擦肩而过\n",
            "（Jay：喔  而过）\n",
            "Jay：我唱告白气球  终于你回了头\n",
            "\n",
            "合：躺在你学校的操场看星空\n",
            "教室里的灯还亮着你没走\n",
            "记得  我写给你的情书\n",
            "都什么年代了\n",
            "到现在我还在写着\n",
            "\n",
            "总有一天总有一年会发现\n",
            "有人默默的陪在你的身边\n",
            "也许  我不该在你的世界\n",
            "当你收到情书\n",
            "也代表我已经走远\n"
          ],
          "name": "stdout"
        }
      ]
    },
    {
      "metadata": {
        "id": "u6PzbTtPiTGB",
        "colab_type": "code",
        "outputId": "c4f8ab67-5b8f-402b-eb41-28b15dddb6d5",
        "colab": {
          "base_uri": "https://localhost:8080/",
          "height": 34
        }
      },
      "cell_type": "code",
      "source": [
        "s = SnowNLP(lrc)\n",
        "s.sentiments"
      ],
      "execution_count": 0,
      "outputs": [
        {
          "output_type": "execute_result",
          "data": {
            "text/plain": [
              "0.9999999999981966"
            ]
          },
          "metadata": {
            "tags": []
          },
          "execution_count": 36
        }
      ]
    },
    {
      "metadata": {
        "id": "Bi8AXhp1lz-M",
        "colab_type": "code",
        "outputId": "dfc2fdc1-96bc-4531-bae5-2622a89f0e7d",
        "colab": {
          "base_uri": "https://localhost:8080/",
          "height": 34
        }
      },
      "cell_type": "code",
      "source": [
        "q = SnowNLP('辣鸡店主，败我钱财，毁我青春')\n",
        "q.sentiments"
      ],
      "execution_count": 0,
      "outputs": [
        {
          "output_type": "execute_result",
          "data": {
            "text/plain": [
              "0.9774554349848498"
            ]
          },
          "metadata": {
            "tags": []
          },
          "execution_count": 65
        }
      ]
    },
    {
      "metadata": {
        "id": "L3fHu6PbtVTT",
        "colab_type": "code",
        "outputId": "89cb6e7f-3c51-465f-f559-0b38c754ef61",
        "colab": {
          "base_uri": "https://localhost:8080/",
          "height": 34
        }
      },
      "cell_type": "code",
      "source": [
        "text = open('1.txt', encoding=\"utf8\").readlines()\n",
        "str1 = ''.join(text)\n",
        "from snownlp import SnowNLP\n",
        "s = SnowNLP(str1)\n",
        "s.sentiments"
      ],
      "execution_count": 0,
      "outputs": [
        {
          "output_type": "execute_result",
          "data": {
            "text/plain": [
              "1.0"
            ]
          },
          "metadata": {
            "tags": []
          },
          "execution_count": 63
        }
      ]
    }
  ]
}